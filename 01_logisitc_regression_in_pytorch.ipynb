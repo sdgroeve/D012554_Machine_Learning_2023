{
  "cells": [
    {
      "cell_type": "markdown",
      "metadata": {
        "id": "view-in-github",
        "colab_type": "text"
      },
      "source": [
        "<a href=\"https://colab.research.google.com/github/sdgroeve/D012554_Machine_Learning_2023/blob/main/01_logisitc_regression_in_pytorch.ipynb\" target=\"_parent\"><img src=\"https://colab.research.google.com/assets/colab-badge.svg\" alt=\"Open In Colab\"/></a>"
      ]
    },
    {
      "cell_type": "markdown",
      "metadata": {
        "id": "OgYkrRCRec0r"
      },
      "source": [
        "# 1. Logitic regression in PyTorch\n"
      ]
    },
    {
      "cell_type": "code",
      "source": [
        "!pip install tqdm"
      ],
      "metadata": {
        "id": "hU4n2UT6ZsWA",
        "outputId": "48358ca9-c13c-4f09-c193-9069dabb20ad",
        "colab": {
          "base_uri": "https://localhost:8080/"
        }
      },
      "execution_count": 76,
      "outputs": [
        {
          "output_type": "stream",
          "name": "stdout",
          "text": [
            "Looking in indexes: https://pypi.org/simple, https://us-python.pkg.dev/colab-wheels/public/simple/\n",
            "Requirement already satisfied: tqdm in /usr/local/lib/python3.8/dist-packages (4.64.1)\n"
          ]
        }
      ]
    },
    {
      "cell_type": "code",
      "source": [
        "import requests\n",
        "from pathlib import Path \n",
        "\n",
        "request = requests.get(\"https://raw.githubusercontent.com/sdgroeve/D012554_Machine_Learning_2023/main/utils/utils.py\")\n",
        "with open(\"utils.py\", \"wb\") as f:\n",
        "  f.write(request.content)\n",
        "\n",
        "from utils import plot_decision_boundary"
      ],
      "metadata": {
        "id": "T11x0t4YnjOL"
      },
      "execution_count": 77,
      "outputs": []
    },
    {
      "cell_type": "markdown",
      "metadata": {
        "id": "L9EOt5cbod6l"
      },
      "source": [
        "[PyTorch](https://pytorch.org/) is an open source deep learning framework. \n",
        "\n",
        "In this notebook we will learn about a PyTorch training and evaluation workflow for fitting a logistic regression model on a toy dataset.\n",
        "\n",
        "First, we import the required PyTorch libraries and fix the random seed."
      ]
    },
    {
      "cell_type": "code",
      "execution_count": 78,
      "metadata": {
        "id": "ZT_ikDC-ec0w",
        "outputId": "f1752e56-a0d9-4128-d320-78dee769e0e8",
        "colab": {
          "base_uri": "https://localhost:8080/",
          "height": 35
        }
      },
      "outputs": [
        {
          "output_type": "execute_result",
          "data": {
            "text/plain": [
              "'1.13.1+cu116'"
            ],
            "application/vnd.google.colaboratory.intrinsic+json": {
              "type": "string"
            }
          },
          "metadata": {},
          "execution_count": 78
        }
      ],
      "source": [
        "import torch\n",
        "from torch import nn \n",
        "\n",
        "torch.manual_seed(46)\n",
        "\n",
        "# Check PyTorch version\n",
        "torch.__version__"
      ]
    },
    {
      "cell_type": "markdown",
      "metadata": {
        "id": "51Ug7Ug123Ip"
      },
      "source": [
        "A tyical PyTorch workflow involves:\n",
        "\n",
        "- Preparing the data\n",
        "- Building the model\n",
        "- Fitting the model to the data (training)\n",
        "- Computing predictions and evaluating the model\n",
        "- Saving the model\n",
        "\n",
        "Let's discuss these steps in more detail by fitting a logistic regression model."
      ]
    },
    {
      "cell_type": "markdown",
      "metadata": {
        "id": "ci_-geIdec0w"
      },
      "source": [
        "## Preparing the data\n",
        "\n",
        "The dataset is in a flat file called `dataset_logistic_regression.csv`. \n",
        "\n",
        "We read this file into a Pandas DataFrame."
      ]
    },
    {
      "cell_type": "code",
      "source": [
        "import pandas as pd\n",
        "\n",
        "data_path = \"https://raw.githubusercontent.com/sdgroeve/D012554_Machine_Learning_2023/main/datasets/dataset_logistic_regression.csv\"\n",
        "\n",
        "dataset = pd.read_csv(data_path)\n",
        "\n",
        "dataset.head()"
      ],
      "metadata": {
        "id": "GZo_wyZRbMmd",
        "outputId": "63b21fda-7300-49e6-fb2e-520ad615b17e",
        "colab": {
          "base_uri": "https://localhost:8080/",
          "height": 206
        }
      },
      "execution_count": 79,
      "outputs": [
        {
          "output_type": "execute_result",
          "data": {
            "text/plain": [
              "        x_1       x_2  y\n",
              "0  0.716568 -1.039137  1\n",
              "1  0.690542 -1.502750  1\n",
              "2 -0.005533 -1.093649  1\n",
              "3 -0.857466  0.420568  0\n",
              "4 -1.305446  1.366230  0"
            ],
            "text/html": [
              "\n",
              "  <div id=\"df-5e1e0c60-95fc-421c-a7d8-a6fd3580941b\">\n",
              "    <div class=\"colab-df-container\">\n",
              "      <div>\n",
              "<style scoped>\n",
              "    .dataframe tbody tr th:only-of-type {\n",
              "        vertical-align: middle;\n",
              "    }\n",
              "\n",
              "    .dataframe tbody tr th {\n",
              "        vertical-align: top;\n",
              "    }\n",
              "\n",
              "    .dataframe thead th {\n",
              "        text-align: right;\n",
              "    }\n",
              "</style>\n",
              "<table border=\"1\" class=\"dataframe\">\n",
              "  <thead>\n",
              "    <tr style=\"text-align: right;\">\n",
              "      <th></th>\n",
              "      <th>x_1</th>\n",
              "      <th>x_2</th>\n",
              "      <th>y</th>\n",
              "    </tr>\n",
              "  </thead>\n",
              "  <tbody>\n",
              "    <tr>\n",
              "      <th>0</th>\n",
              "      <td>0.716568</td>\n",
              "      <td>-1.039137</td>\n",
              "      <td>1</td>\n",
              "    </tr>\n",
              "    <tr>\n",
              "      <th>1</th>\n",
              "      <td>0.690542</td>\n",
              "      <td>-1.502750</td>\n",
              "      <td>1</td>\n",
              "    </tr>\n",
              "    <tr>\n",
              "      <th>2</th>\n",
              "      <td>-0.005533</td>\n",
              "      <td>-1.093649</td>\n",
              "      <td>1</td>\n",
              "    </tr>\n",
              "    <tr>\n",
              "      <th>3</th>\n",
              "      <td>-0.857466</td>\n",
              "      <td>0.420568</td>\n",
              "      <td>0</td>\n",
              "    </tr>\n",
              "    <tr>\n",
              "      <th>4</th>\n",
              "      <td>-1.305446</td>\n",
              "      <td>1.366230</td>\n",
              "      <td>0</td>\n",
              "    </tr>\n",
              "  </tbody>\n",
              "</table>\n",
              "</div>\n",
              "      <button class=\"colab-df-convert\" onclick=\"convertToInteractive('df-5e1e0c60-95fc-421c-a7d8-a6fd3580941b')\"\n",
              "              title=\"Convert this dataframe to an interactive table.\"\n",
              "              style=\"display:none;\">\n",
              "        \n",
              "  <svg xmlns=\"http://www.w3.org/2000/svg\" height=\"24px\"viewBox=\"0 0 24 24\"\n",
              "       width=\"24px\">\n",
              "    <path d=\"M0 0h24v24H0V0z\" fill=\"none\"/>\n",
              "    <path d=\"M18.56 5.44l.94 2.06.94-2.06 2.06-.94-2.06-.94-.94-2.06-.94 2.06-2.06.94zm-11 1L8.5 8.5l.94-2.06 2.06-.94-2.06-.94L8.5 2.5l-.94 2.06-2.06.94zm10 10l.94 2.06.94-2.06 2.06-.94-2.06-.94-.94-2.06-.94 2.06-2.06.94z\"/><path d=\"M17.41 7.96l-1.37-1.37c-.4-.4-.92-.59-1.43-.59-.52 0-1.04.2-1.43.59L10.3 9.45l-7.72 7.72c-.78.78-.78 2.05 0 2.83L4 21.41c.39.39.9.59 1.41.59.51 0 1.02-.2 1.41-.59l7.78-7.78 2.81-2.81c.8-.78.8-2.07 0-2.86zM5.41 20L4 18.59l7.72-7.72 1.47 1.35L5.41 20z\"/>\n",
              "  </svg>\n",
              "      </button>\n",
              "      \n",
              "  <style>\n",
              "    .colab-df-container {\n",
              "      display:flex;\n",
              "      flex-wrap:wrap;\n",
              "      gap: 12px;\n",
              "    }\n",
              "\n",
              "    .colab-df-convert {\n",
              "      background-color: #E8F0FE;\n",
              "      border: none;\n",
              "      border-radius: 50%;\n",
              "      cursor: pointer;\n",
              "      display: none;\n",
              "      fill: #1967D2;\n",
              "      height: 32px;\n",
              "      padding: 0 0 0 0;\n",
              "      width: 32px;\n",
              "    }\n",
              "\n",
              "    .colab-df-convert:hover {\n",
              "      background-color: #E2EBFA;\n",
              "      box-shadow: 0px 1px 2px rgba(60, 64, 67, 0.3), 0px 1px 3px 1px rgba(60, 64, 67, 0.15);\n",
              "      fill: #174EA6;\n",
              "    }\n",
              "\n",
              "    [theme=dark] .colab-df-convert {\n",
              "      background-color: #3B4455;\n",
              "      fill: #D2E3FC;\n",
              "    }\n",
              "\n",
              "    [theme=dark] .colab-df-convert:hover {\n",
              "      background-color: #434B5C;\n",
              "      box-shadow: 0px 1px 3px 1px rgba(0, 0, 0, 0.15);\n",
              "      filter: drop-shadow(0px 1px 2px rgba(0, 0, 0, 0.3));\n",
              "      fill: #FFFFFF;\n",
              "    }\n",
              "  </style>\n",
              "\n",
              "      <script>\n",
              "        const buttonEl =\n",
              "          document.querySelector('#df-5e1e0c60-95fc-421c-a7d8-a6fd3580941b button.colab-df-convert');\n",
              "        buttonEl.style.display =\n",
              "          google.colab.kernel.accessAllowed ? 'block' : 'none';\n",
              "\n",
              "        async function convertToInteractive(key) {\n",
              "          const element = document.querySelector('#df-5e1e0c60-95fc-421c-a7d8-a6fd3580941b');\n",
              "          const dataTable =\n",
              "            await google.colab.kernel.invokeFunction('convertToInteractive',\n",
              "                                                     [key], {});\n",
              "          if (!dataTable) return;\n",
              "\n",
              "          const docLinkHtml = 'Like what you see? Visit the ' +\n",
              "            '<a target=\"_blank\" href=https://colab.research.google.com/notebooks/data_table.ipynb>data table notebook</a>'\n",
              "            + ' to learn more about interactive tables.';\n",
              "          element.innerHTML = '';\n",
              "          dataTable['output_type'] = 'display_data';\n",
              "          await google.colab.output.renderOutput(dataTable, element);\n",
              "          const docLink = document.createElement('div');\n",
              "          docLink.innerHTML = docLinkHtml;\n",
              "          element.appendChild(docLink);\n",
              "        }\n",
              "      </script>\n",
              "    </div>\n",
              "  </div>\n",
              "  "
            ]
          },
          "metadata": {},
          "execution_count": 79
        }
      ]
    },
    {
      "cell_type": "markdown",
      "source": [
        "The dataset as two features `x_1` and `x_2`, and one label `y`. \n",
        "\n",
        "Let's plot this data. "
      ],
      "metadata": {
        "id": "VFZFvc4kdVtk"
      }
    },
    {
      "cell_type": "code",
      "source": [
        "import matplotlib.pyplot as plt\n",
        "import seaborn as sns\n",
        "\n",
        "sns.lmplot(x=\"x_1\",y=\"x_2\",hue=\"y\",data=dataset,fit_reg=False)\n",
        "plt.show()"
      ],
      "metadata": {
        "id": "-emcG7FnbWjB",
        "outputId": "09ea916a-c741-4905-9f1e-b6e94be82506",
        "colab": {
          "base_uri": "https://localhost:8080/",
          "height": 369
        }
      },
      "execution_count": 80,
      "outputs": [
        {
          "output_type": "display_data",
          "data": {
            "text/plain": [
              "<Figure size 402.375x360 with 1 Axes>"
            ],
            "image/png": "[encoded data removed]"
          },
          "metadata": {
            "needs_background": "light"
          }
        }
      ]
    },
    {
      "cell_type": "markdown",
      "source": [
        "We put the feature columns in a DataFrame called `X` and the label column in a DataFrame called `y`."
      ],
      "metadata": {
        "id": "G1s6QsJwd4md"
      }
    },
    {
      "cell_type": "code",
      "source": [
        "y = dataset.pop('y')\n",
        "X = dataset"
      ],
      "metadata": {
        "id": "Nrpm82fQeDK3"
      },
      "execution_count": 81,
      "outputs": []
    },
    {
      "cell_type": "markdown",
      "source": [
        "A typical deep learning workflow would involve a train, a validation and a test split of the dataset.\n",
        "\n",
        "Each split serves a specific purpose:\n",
        "\n",
        "| Split | Purpose | Amount of total data | How often is it used? |\n",
        "| ----- | ----- | ----- | ----- |\n",
        "| **train set** | The model learns from this data. | ~60-80% | Always |\n",
        "| **validation set** | The model gets tuned on this data. | ~10-20% | Often but not always |\n",
        "| **test set** | The model gets evaluated on this data to test what it has learned. | ~10-20% | Always |"
      ],
      "metadata": {
        "id": "EoL6jszWeRBj"
      }
    },
    {
      "cell_type": "code",
      "source": [
        "from sklearn.model_selection import train_test_split\n",
        "\n",
        "X_train, X_test, y_train, y_test = train_test_split(X, y, test_size=0.2, random_state=42)\n",
        "X_test, X_val, y_test, y_val = train_test_split(X_test, y_test, test_size=0.5, random_state=42)\n",
        "print(X_train.shape)\n",
        "print(X_val.shape)\n",
        "print(X_test.shape)"
      ],
      "metadata": {
        "id": "jj0jyNo1W_Cx",
        "outputId": "e680888e-b8bb-4597-9f94-e43c771cba44",
        "colab": {
          "base_uri": "https://localhost:8080/"
        }
      },
      "execution_count": 82,
      "outputs": [
        {
          "output_type": "stream",
          "name": "stdout",
          "text": [
            "(800, 2)\n",
            "(100, 2)\n",
            "(100, 2)\n"
          ]
        }
      ]
    },
    {
      "cell_type": "markdown",
      "source": [
        "In PyTorch we work with Tensor representaions of the dataset. A PyTorch Tensor is basically the same as a numpy array: it does not know anything about deep learning or computational graphs or gradients, and is just a generic n-dimensional array to be used for arbitrary numeric computation.\n",
        "\n",
        "To create a Tensor we need to first extract the NumPy data from the Pandas DataFrames."
      ],
      "metadata": {
        "id": "n2Dih7Y91UiN"
      }
    },
    {
      "cell_type": "code",
      "source": [
        "X_train, X_val, X_test = X_train.values, X_val.values, X_test.values\n",
        "y_train, y_val, y_test = y_train.values, y_val.values, y_test.values"
      ],
      "metadata": {
        "id": "5vbNv-mhfrg1"
      },
      "execution_count": 83,
      "outputs": []
    },
    {
      "cell_type": "code",
      "source": [
        "X_train"
      ],
      "metadata": {
        "id": "uXsT48Vjf3Z7",
        "outputId": "1fb234e7-44bb-4519-b33b-ac859d369250",
        "colab": {
          "base_uri": "https://localhost:8080/"
        }
      },
      "execution_count": 84,
      "outputs": [
        {
          "output_type": "execute_result",
          "data": {
            "text/plain": [
              "array([[-0.374857  ,  0.64081297],\n",
              "       [-0.38186096, -1.31710043],\n",
              "       [-1.34798231,  1.4120953 ],\n",
              "       ...,\n",
              "       [-0.78772067,  0.96480118],\n",
              "       [-0.15423052,  1.56655497],\n",
              "       [ 1.5392047 , -0.07340352]])"
            ]
          },
          "metadata": {},
          "execution_count": 84
        }
      ]
    },
    {
      "cell_type": "markdown",
      "source": [
        "Now we can create the Tensors."
      ],
      "metadata": {
        "id": "2G5dD7MC2GNR"
      }
    },
    {
      "cell_type": "code",
      "source": [
        "X_train, X_val, X_test = torch.Tensor(X_train),torch.Tensor(X_val),torch.Tensor(X_test)\n",
        "y_train, y_val, y_test = torch.Tensor(y_train),torch.Tensor(y_val),torch.Tensor(y_test)"
      ],
      "metadata": {
        "id": "m9vgmY8UWPka"
      },
      "execution_count": 85,
      "outputs": []
    },
    {
      "cell_type": "markdown",
      "metadata": {
        "id": "0eFsorRHec00"
      },
      "source": [
        "## Building the model\n",
        "\n",
        "To build a model in PyTorch we need to create a subclass of `torch.nn.Module` such that this subclass inherits all functionality required for fitting our model."
      ]
    },
    {
      "cell_type": "code",
      "execution_count": 86,
      "metadata": {
        "id": "jhcUJBFuec00"
      },
      "outputs": [],
      "source": [
        "class LogisticRegression(torch.nn.Module):\n",
        "  def __init__(self, input_dim, output_dim):\n",
        "    super(LogisticRegression, self).__init__()\n",
        "    self.linear = torch.nn.Linear(input_dim, output_dim)   \n",
        "    torch.nn.init.normal_(self.linear.weight) \n",
        "\n",
        "  def forward(self, x):\n",
        "    x = self.linear(x)\n",
        "    return x"
      ]
    },
    {
      "cell_type": "markdown",
      "source": [
        "For our model class `LogisticRegression()` we need to define at least two methods: `__init__()` and `forward()`.\n",
        "\n",
        "### `__init()__`\n",
        "\n",
        "The method `__init__()` is called when an instance of our class `LogisticRegression` is created. This is done in the following code."
      ],
      "metadata": {
        "id": "Fj8ygxXdET-y"
      }
    },
    {
      "cell_type": "code",
      "execution_count": 87,
      "metadata": {
        "id": "CsEKA3A_ec01"
      },
      "outputs": [],
      "source": [
        "# Two inputs x_1 and x_2\n",
        "input_dim = 2  \n",
        "# Single binary output \n",
        "output_dim = 1 \n",
        "\n",
        "# Create an instance of the model (this is a subclass of nn.Module that contains nn.Parameter(s))\n",
        "model = LogisticRegression(input_dim, output_dim)"
      ]
    },
    {
      "cell_type": "markdown",
      "source": [
        "This code created a linear model with two modelparameters that each have a random value. \n",
        "\n",
        "Because we inherit all functionality of the `totch.nn.Module` class we can now, for instance, call the inherited `.state_dict()` method to get the state (what the model contains) of the model."
      ],
      "metadata": {
        "id": "pXeeaE4wFoTp"
      }
    },
    {
      "cell_type": "code",
      "source": [
        "model.state_dict()"
      ],
      "metadata": {
        "id": "xi1jwgIEFarB",
        "outputId": "8c43eade-9732-483d-afac-a8a69351d707",
        "colab": {
          "base_uri": "https://localhost:8080/"
        }
      },
      "execution_count": 88,
      "outputs": [
        {
          "output_type": "execute_result",
          "data": {
            "text/plain": [
              "OrderedDict([('linear.weight', tensor([[-0.2668,  1.5554]])),\n",
              "             ('linear.bias', tensor([0.0246]))])"
            ]
          },
          "metadata": {},
          "execution_count": 88
        }
      ]
    },
    {
      "cell_type": "code",
      "source": [
        "plot_decision_boundary(model, X_train, y_train)"
      ],
      "metadata": {
        "id": "TsprpkRanp-q",
        "outputId": "ec569a3e-43ca-4974-bd49-bd4bcad84e57",
        "colab": {
          "base_uri": "https://localhost:8080/",
          "height": 265
        }
      },
      "execution_count": 89,
      "outputs": [
        {
          "output_type": "display_data",
          "data": {
            "text/plain": [
              "<Figure size 432x288 with 1 Axes>"
            ],
            "image/png": "[encoded data removed]"
          },
          "metadata": {
            "needs_background": "light"
          }
        }
      ]
    },
    {
      "cell_type": "markdown",
      "metadata": {
        "id": "BDKdLN7nuheb"
      },
      "source": [
        "### `forward()`\n",
        "\n",
        "When we pass data to our model, it'll go through the model's `forward()` method and produce a result using the computation we've defined. \n",
        "\n",
        "Let's make some predictions for the first 10 feature vectors in the test set."
      ]
    },
    {
      "cell_type": "code",
      "source": [
        "with torch.inference_mode(): \n",
        "    predictions = model(X_test[:10])\n",
        "\n",
        "predictions"
      ],
      "metadata": {
        "id": "-BE18lvMKx5g",
        "outputId": "e10bad2a-d9e8-46bf-b469-e3dcf64431c9",
        "colab": {
          "base_uri": "https://localhost:8080/"
        }
      },
      "execution_count": 90,
      "outputs": [
        {
          "output_type": "execute_result",
          "data": {
            "text/plain": [
              "tensor([[-1.4728],\n",
              "        [ 1.7513],\n",
              "        [-0.1220],\n",
              "        [ 0.8585],\n",
              "        [-0.9324],\n",
              "        [-1.2307],\n",
              "        [ 1.9340],\n",
              "        [-0.2438],\n",
              "        [-0.3309],\n",
              "        [ 1.8705]])"
            ]
          },
          "metadata": {},
          "execution_count": 90
        }
      ]
    },
    {
      "cell_type": "markdown",
      "source": [
        "Because we are working with Tensors the model outputs an array of (1-dimensional) arrays."
      ],
      "metadata": {
        "id": "GHOzlzIbLdh8"
      }
    },
    {
      "cell_type": "code",
      "source": [
        "predictions.shape"
      ],
      "metadata": {
        "id": "sREjmDPELm3g",
        "outputId": "66ba7ad6-e902-4ded-91ef-b012263a989e",
        "colab": {
          "base_uri": "https://localhost:8080/"
        }
      },
      "execution_count": 91,
      "outputs": [
        {
          "output_type": "execute_result",
          "data": {
            "text/plain": [
              "torch.Size([10, 1])"
            ]
          },
          "metadata": {},
          "execution_count": 91
        }
      ]
    },
    {
      "cell_type": "markdown",
      "source": [
        "We use the PyTorch method `squeeze()` to reshape this Tensor to a 1-dimensional array."
      ],
      "metadata": {
        "id": "L28W91tyNhhq"
      }
    },
    {
      "cell_type": "code",
      "source": [
        "predictions = torch.squeeze(predictions)\n",
        "\n",
        "predictions"
      ],
      "metadata": {
        "id": "LQ59eV4ZNKsZ",
        "outputId": "6f694910-4237-4fd4-ff5d-8d8c45afb7b0",
        "colab": {
          "base_uri": "https://localhost:8080/"
        }
      },
      "execution_count": 92,
      "outputs": [
        {
          "output_type": "execute_result",
          "data": {
            "text/plain": [
              "tensor([-1.4728,  1.7513, -0.1220,  0.8585, -0.9324, -1.2307,  1.9340, -0.2438,\n",
              "        -0.3309,  1.8705])"
            ]
          },
          "metadata": {},
          "execution_count": 92
        }
      ]
    },
    {
      "cell_type": "markdown",
      "source": [
        "As with the Pandas example above, we can extract the data as a NumPy array."
      ],
      "metadata": {
        "id": "w5POsW0_N0A6"
      }
    },
    {
      "cell_type": "code",
      "source": [
        "predictions = predictions.detach().numpy()\n",
        "\n",
        "predictions"
      ],
      "metadata": {
        "id": "zZ6_QqNkNSKa",
        "outputId": "a8775288-2510-4813-9c63-fe8f059ec79a",
        "colab": {
          "base_uri": "https://localhost:8080/"
        }
      },
      "execution_count": 93,
      "outputs": [
        {
          "output_type": "execute_result",
          "data": {
            "text/plain": [
              "array([-1.4728315 ,  1.7513192 , -0.12199594,  0.858454  , -0.93236434,\n",
              "       -1.2306831 ,  1.9339886 , -0.24380034, -0.33093375,  1.8704933 ],\n",
              "      dtype=float32)"
            ]
          },
          "metadata": {},
          "execution_count": 93
        }
      ]
    },
    {
      "cell_type": "markdown",
      "source": [
        "The Tansor.detach() method is used to detach a tensor from the current computational graph (more about this later). \n",
        "\n",
        "We also need to detach a tensor when we need to move the tensor from GPU to CPU.\n",
        "\n",
        "Now we can compute evaluation metrics for the predicitons, e.g. the AUC."
      ],
      "metadata": {
        "id": "Jeb4dzdfLunz"
      }
    },
    {
      "cell_type": "code",
      "execution_count": 94,
      "metadata": {
        "id": "-ITlZgU5ec02",
        "outputId": "013018fa-224f-4040-d03b-cdc2fa06481d",
        "colab": {
          "base_uri": "https://localhost:8080/"
        }
      },
      "outputs": [
        {
          "output_type": "stream",
          "name": "stdout",
          "text": [
            "test set AUC: 0.0\n"
          ]
        }
      ],
      "source": [
        "from sklearn.metrics import roc_auc_score\n",
        "\n",
        "with torch.inference_mode(): \n",
        "    predictions = model(X_test)\n",
        "\n",
        "predictions = torch.squeeze(predictions)\n",
        "predictions = predictions.detach().numpy()\n",
        "\n",
        "print(\"test set AUC: {}\".format(roc_auc_score(y_test,predictions)))"
      ]
    },
    {
      "cell_type": "markdown",
      "metadata": {
        "id": "L_Bx5I1FsIS0"
      },
      "source": [
        "You probably noticed we used [`torch.inference_mode()`](https://pytorch.org/docs/stable/generated/torch.inference_mode.html) as a [context manager](https://realpython.com/python-with-statement/) (that's what the `with torch.inference_mode():` is) to make the predictions.\n",
        "\n",
        "As the name suggests, `torch.inference_mode()` is used when using a model for inference (making predictions).\n",
        "\n",
        "`torch.inference_mode()` turns off a bunch of things (like gradient tracking, which is necessary for training but not for inference) to make **forward-passes** (data going through the `forward()` method) faster."
      ]
    },
    {
      "cell_type": "markdown",
      "metadata": {
        "id": "aD8pnhJUyZUT"
      },
      "source": [
        "## Training the model\n",
        "\n",
        "Our model is making predictions using random modelparameter values.\n",
        "\n",
        "\n",
        "For our model to update its parameters on its own, we'll need to add a few more things to our recipe.\n",
        "\n",
        "To train the model we need to add a **loss function** and an **optimizer**. The loss function measures how wrong the model predictions are compared to the true labels. The optimizer tells your model how to update its modelparameters to best lower the loss.\n",
        "\n",
        "Let's create a loss function and an optimizer we can use to help improve our model.\n",
        "\n",
        "Depending on what kind of problem you're working on will depend on what loss function and what optimizer you use.\n",
        "\n",
        "However, there are some common values, that are known to work well such as the SGD (stochastic gradient descent) or Adam optimizer. And the MAE (mean absolute error) loss function for regression problems or cross entropy loss function for classification problems, as for our dataset. \n",
        "\n",
        "For the optimizer we will SGD, `torch.optim.SGD(params, lr)` where:\n",
        "\n",
        "* `params` are the modelparameters we want to optimize\n",
        "* `lr` is the **learning rate** you'd like the optimizer to update the modelparameters at"
      ]
    },
    {
      "cell_type": "code",
      "execution_count": 95,
      "metadata": {
        "id": "P3T7hpNPec03"
      },
      "outputs": [],
      "source": [
        "learning_rate = 0.001\n",
        "\n",
        "#the loss function\n",
        "loss_func = torch.nn.BCEWithLogitsLoss()\n",
        "\n",
        "#the optimizer\n",
        "optimizer = torch.optim.SGD(model.parameters(), lr=learning_rate)"
      ]
    },
    {
      "cell_type": "markdown",
      "metadata": {
        "id": "aFcKCsPcRfnA"
      },
      "source": [
        "Now we've got a loss function and an optimizer, it's now time to create a **training loop** (and **validation loop**).\n",
        "\n",
        "For the training loop, we have to code the following steps:\n",
        "\n",
        "1. Forward pass: the model goes through all of the training data once, performing its `forward()` function calculations.\n",
        "\n",
        "2. Calculate the loss: the model's outputs (predictions) are compared to the ground truth and evaluated to see how wrong they are.\n",
        "3. Zero the gradients: the optimizers gradients are set to zero (they are accumulated by default) so they can be recalculated for the specific training step.\n",
        "4. Perform backpropagation on the loss: computes the gradient of the loss with respect to every modelparameter \n",
        "5. Update the optimizer (**gradient descent**): update the modelparameter values with respect to the loss gradients.\n"
      ]
    },
    {
      "cell_type": "code",
      "execution_count": 96,
      "metadata": {
        "id": "k1DfhyJ7ec03",
        "outputId": "3313bef7-a073-4eed-9fda-2d35a9660fb4",
        "colab": {
          "base_uri": "https://localhost:8080/"
        }
      },
      "outputs": [
        {
          "output_type": "stream",
          "name": "stdout",
          "text": [
            "training loss: 1.8084667921066284\n",
            "validation AUC: 0.0\n",
            "training loss: 1.8075015544891357\n",
            "validation AUC: 0.0\n",
            "training loss: 1.8065365552902222\n",
            "validation AUC: 0.0\n",
            "training loss: 1.8055720329284668\n",
            "validation AUC: 0.0\n",
            "training loss: 1.80460786819458\n",
            "validation AUC: 0.0\n",
            "training loss: 1.8036442995071411\n",
            "validation AUC: 0.0\n",
            "training loss: 1.8026806116104126\n",
            "validation AUC: 0.0\n",
            "training loss: 1.8017175197601318\n",
            "validation AUC: 0.0\n",
            "training loss: 1.8007546663284302\n",
            "validation AUC: 0.0\n",
            "training loss: 1.7997921705245972\n",
            "validation AUC: 0.0\n",
            "training loss: 1.7988301515579224\n",
            "validation AUC: 0.0\n",
            "training loss: 1.7978683710098267\n",
            "validation AUC: 0.0\n",
            "training loss: 1.7969070672988892\n",
            "validation AUC: 0.0\n",
            "training loss: 1.7959462404251099\n",
            "validation AUC: 0.0\n",
            "training loss: 1.794985294342041\n",
            "validation AUC: 0.0\n",
            "training loss: 1.79402494430542\n",
            "validation AUC: 0.0\n",
            "training loss: 1.7930647134780884\n",
            "validation AUC: 0.0\n",
            "training loss: 1.7921051979064941\n",
            "validation AUC: 0.0\n",
            "training loss: 1.791145920753479\n",
            "validation AUC: 0.0\n",
            "training loss: 1.7901867628097534\n",
            "validation AUC: 0.0\n",
            "training loss: 1.7892283201217651\n",
            "validation AUC: 0.0\n",
            "training loss: 1.7882699966430664\n",
            "validation AUC: 0.0\n",
            "training loss: 1.7873120307922363\n",
            "validation AUC: 0.0\n",
            "training loss: 1.786354422569275\n",
            "validation AUC: 0.0\n",
            "training loss: 1.7853971719741821\n",
            "validation AUC: 0.0\n",
            "training loss: 1.784440517425537\n",
            "validation AUC: 0.0\n",
            "training loss: 1.7834839820861816\n",
            "validation AUC: 0.0\n",
            "training loss: 1.7825279235839844\n",
            "validation AUC: 0.0\n",
            "training loss: 1.7815722227096558\n",
            "validation AUC: 0.0\n",
            "training loss: 1.7806167602539062\n",
            "validation AUC: 0.0\n"
          ]
        }
      ],
      "source": [
        "#number of times we iterate trough the train set\n",
        "num_epochs = 30\n",
        "\n",
        "for epoch in range(num_epochs):\n",
        "\n",
        "    #step 1\n",
        "    predictions_train = torch.squeeze(model(X_train)) \n",
        "\n",
        "    #step 2\n",
        "    loss = loss_func(predictions_train, y_train) \n",
        "    print(\"training loss: {}\".format(loss))    \n",
        "\n",
        "    #step 3\n",
        "    optimizer.zero_grad() \n",
        "\n",
        "    #step 4\n",
        "    loss.backward() \n",
        "\n",
        "    #step 5\n",
        "    optimizer.step()\n",
        "        \n",
        "    #compute AUC on validation set\n",
        "    predictions_val = torch.squeeze(model(X_val)).round().detach().numpy()\n",
        "    print(\"validation AUC: {}\".format(roc_auc_score(y_val,predictions_val)))"
      ]
    },
    {
      "cell_type": "markdown",
      "source": [
        "## Computing predictions and evaluating the model\n"
      ],
      "metadata": {
        "id": "e0MESO4WgNQI"
      }
    },
    {
      "cell_type": "code",
      "source": [
        "model.eval()\n",
        "\n",
        "with torch.inference_mode(): \n",
        "    predictions_test = model(X_test)\n",
        "\n",
        "predictions_test = torch.squeeze(predictions_test).detach().numpy()\n",
        "\n",
        "print(\"test set AUC: {}\".format(roc_auc_score(y_test,predictions_test)))"
      ],
      "metadata": {
        "id": "X1saE3rqbrS3",
        "outputId": "3e7341c6-07a3-4d52-899d-bdd0daf7ac97",
        "colab": {
          "base_uri": "https://localhost:8080/"
        }
      },
      "execution_count": 97,
      "outputs": [
        {
          "output_type": "stream",
          "name": "stdout",
          "text": [
            "test set AUC: 0.0\n"
          ]
        }
      ]
    },
    {
      "cell_type": "markdown",
      "metadata": {
        "id": "SdAGcH2aec05"
      },
      "source": [
        "## Saving (and loading) the model\n",
        "\n",
        "The [recommended way](https://pytorch.org/tutorials/beginner/saving_loading_models.html#saving-loading-model-for-inference) for saving a model for inference (making predictions) is by saving the modelparameter values in `state_dict()`.\n",
        "\n",
        "We call `torch.save(obj, f)` where `obj` is the target model's `state_dict()` and `f` is the filename of where to save the model.\n",
        "\n",
        "It's common convention for PyTorch saved models or objects to end with `.pt` or `.pth`, like `saved_model_01.pth`.\n"
      ]
    },
    {
      "cell_type": "code",
      "execution_count": 98,
      "metadata": {
        "id": "qsQhY2S2jv90"
      },
      "outputs": [],
      "source": [
        "model_filename = \"model_logistic_regression.pth\"\n",
        "torch.save(obj=model.state_dict(), f=model_filename) "
      ]
    },
    {
      "cell_type": "markdown",
      "metadata": {
        "id": "jFQpRoH5ec06"
      },
      "source": [
        "To load a model, we first load the `state_dict()` with `torch.load()` and then pass that `state_dict()` to a new instance of our model (which is a subclass of `nn.Module`).\n"
      ]
    },
    {
      "cell_type": "code",
      "execution_count": 99,
      "metadata": {
        "id": "1xnh3cFDec06",
        "outputId": "ddeb940a-f8d4-45fe-81a1-5817929d3aa9",
        "colab": {
          "base_uri": "https://localhost:8080/"
        }
      },
      "outputs": [
        {
          "output_type": "execute_result",
          "data": {
            "text/plain": [
              "<All keys matched successfully>"
            ]
          },
          "metadata": {},
          "execution_count": 99
        }
      ],
      "source": [
        "# Instantiate a new instance of our model (this will be instantiated with random weights)\n",
        "loaded_model = LogisticRegression(input_dim, output_dim)\n",
        "\n",
        "# Load the state_dict of our saved model (this will update the new instance of our model with trained weights)\n",
        "loaded_model.load_state_dict(torch.load(f=model_filename))"
      ]
    },
    {
      "cell_type": "markdown",
      "metadata": {
        "id": "vK8PRtY7Qgpz"
      },
      "source": [
        "Excellent! It looks like things matched up.\n",
        "\n",
        "Now to test our loaded model, let's perform inference with it (make predictions) on the test data.\n",
        "\n",
        "Remember the rules for performing inference with PyTorch models?\n",
        "\n",
        "If not, here's a refresher:\n",
        "\n",
        "<details>\n",
        "    <summary>PyTorch inference rules</summary>\n",
        "    <ol>\n",
        "      <li> Set the model in evaluation mode (<code>model.eval()</code>). </li>\n",
        "      <li> Make the predictions using the inference mode context manager (<code>with torch.inference_mode(): ...</code>). </li>\n",
        "      <li> All predictions should be made with objects on the same device (e.g. data and model on GPU only or data and model on CPU only).</li>\n",
        "    </ol> \n",
        "</details>\n",
        "\n"
      ]
    },
    {
      "cell_type": "code",
      "execution_count": 100,
      "metadata": {
        "id": "Ps-AuJqkec06"
      },
      "outputs": [],
      "source": [
        "# 1. Put the loaded model into evaluation mode\n",
        "loaded_model.eval()\n",
        "\n",
        "# 2. Use the inference mode context manager to make predictions\n",
        "with torch.inference_mode():\n",
        "    loaded_model_preds = loaded_model(X_test) # perform a forward pass on the test data with the loaded model"
      ]
    }
  ],
  "metadata": {
    "colab": {
      "name": "01_pytorch_workflow.ipynb",
      "provenance": [],
      "include_colab_link": true
    },
    "interpreter": {
      "hash": "3fbe1355223f7b2ffc113ba3ade6a2b520cadace5d5ec3e828c83ce02eb221bf"
    },
    "kernelspec": {
      "display_name": "Python 3 (ipykernel)",
      "language": "python",
      "name": "python3"
    },
    "language_info": {
      "codemirror_mode": {
        "name": "ipython",
        "version": 3
      },
      "file_extension": ".py",
      "mimetype": "text/x-python",
      "name": "python",
      "nbconvert_exporter": "python",
      "pygments_lexer": "ipython3",
      "version": "3.7.4"
    },
    "gpuClass": "standard"
  },
  "nbformat": 4,
  "nbformat_minor": 0
}
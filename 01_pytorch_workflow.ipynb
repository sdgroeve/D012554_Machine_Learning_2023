{
  "cells": [
    {
      "cell_type": "markdown",
      "metadata": {
        "id": "view-in-github",
        "colab_type": "text"
      },
      "source": [
        "<a href=\"https://colab.research.google.com/github/sdgroeve/D012554_Machine_Learning_2023/blob/main/01_pytorch_workflow.ipynb\" target=\"_parent\"><img src=\"https://colab.research.google.com/assets/colab-badge.svg\" alt=\"Open In Colab\"/></a>"
      ]
    },
    {
      "cell_type": "markdown",
      "metadata": {
        "id": "OgYkrRCRec0r"
      },
      "source": [
        "# Logitic regression in PyTorch\n"
      ]
    },
    {
      "cell_type": "code",
      "source": [
        "!pip install tqdm"
      ],
      "metadata": {
        "colab": {
          "base_uri": "https://localhost:8080/"
        },
        "id": "hU4n2UT6ZsWA",
        "outputId": "ffb940f3-2253-494f-94d0-00d2bb286eb7"
      },
      "execution_count": 2,
      "outputs": [
        {
          "output_type": "stream",
          "name": "stdout",
          "text": [
            "Looking in indexes: https://pypi.org/simple, https://us-python.pkg.dev/colab-wheels/public/simple/\n",
            "Requirement already satisfied: tqdm in /usr/local/lib/python3.8/dist-packages (4.64.1)\n"
          ]
        }
      ]
    },
    {
      "cell_type": "markdown",
      "metadata": {
        "id": "L9EOt5cbod6l"
      },
      "source": [
        "[PyTorch](https://pytorch.org/) is an open source deep learning framework. \n",
        "\n",
        "In this notebook we will learn about a PyTorch training and evaluation workflow for fitting a logistic regression model on a toy dataset.\n",
        "\n",
        "First we import the required PyTorch libraries and fix the random seed."
      ]
    },
    {
      "cell_type": "code",
      "execution_count": 3,
      "metadata": {
        "colab": {
          "base_uri": "https://localhost:8080/",
          "height": 36
        },
        "id": "ZT_ikDC-ec0w",
        "outputId": "f31b8d3e-ca05-45d5-a023-99885ecc86a8"
      },
      "outputs": [
        {
          "output_type": "execute_result",
          "data": {
            "text/plain": [
              "'1.13.1+cu116'"
            ],
            "application/vnd.google.colaboratory.intrinsic+json": {
              "type": "string"
            }
          },
          "metadata": {},
          "execution_count": 3
        }
      ],
      "source": [
        "import torch\n",
        "from torch import nn \n",
        "\n",
        "torch.manual_seed(46)\n",
        "\n",
        "# Check PyTorch version\n",
        "torch.__version__"
      ]
    },
    {
      "cell_type": "markdown",
      "metadata": {
        "id": "51Ug7Ug123Ip"
      },
      "source": [
        "A tyical PyTorch workflow involves:\n",
        "\n",
        "1. Preparing the data\n",
        "2. Building the model\n",
        "3. Fitting the model to the data (training)\n",
        "4. Computing predictions and evaluating the model\n",
        "5. Saving the model\n",
        "\n",
        "Let's discuss these steps in more detail by fitting a logistic regression model."
      ]
    },
    {
      "cell_type": "markdown",
      "metadata": {
        "id": "ci_-geIdec0w"
      },
      "source": [
        "## 1. Preparing the data\n",
        "\n",
        "The dataset is in a flat file called `dataset_logistic_regression.csv`. \n",
        "\n",
        "We read this file into a Pandas DataFrame."
      ]
    },
    {
      "cell_type": "code",
      "source": [
        "import pandas as pd\n",
        "\n",
        "dataset = pd.read_csv(\"dataset_logistic_regression.csv\")\n",
        "\n",
        "dataset.head()"
      ],
      "metadata": {
        "colab": {
          "base_uri": "https://localhost:8080/",
          "height": 206
        },
        "id": "GZo_wyZRbMmd",
        "outputId": "a79c68b5-f865-4f9d-f555-30a92a4f76dc"
      },
      "execution_count": 4,
      "outputs": [
        {
          "output_type": "execute_result",
          "data": {
            "text/plain": [
              "        x_1       x_2  y\n",
              "0 -1.385532  0.930333  0\n",
              "1  0.470672 -0.645184  1\n",
              "2  1.109673 -0.775433  1\n",
              "3 -0.921845  0.623731  0\n",
              "4  1.625524 -0.874740  1"
            ],
            "text/html": [
              "\n",
              "  <div id=\"df-44afb769-8f74-47d6-bd6e-708706cf19d5\">\n",
              "    <div class=\"colab-df-container\">\n",
              "      <div>\n",
              "<style scoped>\n",
              "    .dataframe tbody tr th:only-of-type {\n",
              "        vertical-align: middle;\n",
              "    }\n",
              "\n",
              "    .dataframe tbody tr th {\n",
              "        vertical-align: top;\n",
              "    }\n",
              "\n",
              "    .dataframe thead th {\n",
              "        text-align: right;\n",
              "    }\n",
              "</style>\n",
              "<table border=\"1\" class=\"dataframe\">\n",
              "  <thead>\n",
              "    <tr style=\"text-align: right;\">\n",
              "      <th></th>\n",
              "      <th>x_1</th>\n",
              "      <th>x_2</th>\n",
              "      <th>y</th>\n",
              "    </tr>\n",
              "  </thead>\n",
              "  <tbody>\n",
              "    <tr>\n",
              "      <th>0</th>\n",
              "      <td>-1.385532</td>\n",
              "      <td>0.930333</td>\n",
              "      <td>0</td>\n",
              "    </tr>\n",
              "    <tr>\n",
              "      <th>1</th>\n",
              "      <td>0.470672</td>\n",
              "      <td>-0.645184</td>\n",
              "      <td>1</td>\n",
              "    </tr>\n",
              "    <tr>\n",
              "      <th>2</th>\n",
              "      <td>1.109673</td>\n",
              "      <td>-0.775433</td>\n",
              "      <td>1</td>\n",
              "    </tr>\n",
              "    <tr>\n",
              "      <th>3</th>\n",
              "      <td>-0.921845</td>\n",
              "      <td>0.623731</td>\n",
              "      <td>0</td>\n",
              "    </tr>\n",
              "    <tr>\n",
              "      <th>4</th>\n",
              "      <td>1.625524</td>\n",
              "      <td>-0.874740</td>\n",
              "      <td>1</td>\n",
              "    </tr>\n",
              "  </tbody>\n",
              "</table>\n",
              "</div>\n",
              "      <button class=\"colab-df-convert\" onclick=\"convertToInteractive('df-44afb769-8f74-47d6-bd6e-708706cf19d5')\"\n",
              "              title=\"Convert this dataframe to an interactive table.\"\n",
              "              style=\"display:none;\">\n",
              "        \n",
              "  <svg xmlns=\"http://www.w3.org/2000/svg\" height=\"24px\"viewBox=\"0 0 24 24\"\n",
              "       width=\"24px\">\n",
              "    <path d=\"M0 0h24v24H0V0z\" fill=\"none\"/>\n",
              "    <path d=\"M18.56 5.44l.94 2.06.94-2.06 2.06-.94-2.06-.94-.94-2.06-.94 2.06-2.06.94zm-11 1L8.5 8.5l.94-2.06 2.06-.94-2.06-.94L8.5 2.5l-.94 2.06-2.06.94zm10 10l.94 2.06.94-2.06 2.06-.94-2.06-.94-.94-2.06-.94 2.06-2.06.94z\"/><path d=\"M17.41 7.96l-1.37-1.37c-.4-.4-.92-.59-1.43-.59-.52 0-1.04.2-1.43.59L10.3 9.45l-7.72 7.72c-.78.78-.78 2.05 0 2.83L4 21.41c.39.39.9.59 1.41.59.51 0 1.02-.2 1.41-.59l7.78-7.78 2.81-2.81c.8-.78.8-2.07 0-2.86zM5.41 20L4 18.59l7.72-7.72 1.47 1.35L5.41 20z\"/>\n",
              "  </svg>\n",
              "      </button>\n",
              "      \n",
              "  <style>\n",
              "    .colab-df-container {\n",
              "      display:flex;\n",
              "      flex-wrap:wrap;\n",
              "      gap: 12px;\n",
              "    }\n",
              "\n",
              "    .colab-df-convert {\n",
              "      background-color: #E8F0FE;\n",
              "      border: none;\n",
              "      border-radius: 50%;\n",
              "      cursor: pointer;\n",
              "      display: none;\n",
              "      fill: #1967D2;\n",
              "      height: 32px;\n",
              "      padding: 0 0 0 0;\n",
              "      width: 32px;\n",
              "    }\n",
              "\n",
              "    .colab-df-convert:hover {\n",
              "      background-color: #E2EBFA;\n",
              "      box-shadow: 0px 1px 2px rgba(60, 64, 67, 0.3), 0px 1px 3px 1px rgba(60, 64, 67, 0.15);\n",
              "      fill: #174EA6;\n",
              "    }\n",
              "\n",
              "    [theme=dark] .colab-df-convert {\n",
              "      background-color: #3B4455;\n",
              "      fill: #D2E3FC;\n",
              "    }\n",
              "\n",
              "    [theme=dark] .colab-df-convert:hover {\n",
              "      background-color: #434B5C;\n",
              "      box-shadow: 0px 1px 3px 1px rgba(0, 0, 0, 0.15);\n",
              "      filter: drop-shadow(0px 1px 2px rgba(0, 0, 0, 0.3));\n",
              "      fill: #FFFFFF;\n",
              "    }\n",
              "  </style>\n",
              "\n",
              "      <script>\n",
              "        const buttonEl =\n",
              "          document.querySelector('#df-44afb769-8f74-47d6-bd6e-708706cf19d5 button.colab-df-convert');\n",
              "        buttonEl.style.display =\n",
              "          google.colab.kernel.accessAllowed ? 'block' : 'none';\n",
              "\n",
              "        async function convertToInteractive(key) {\n",
              "          const element = document.querySelector('#df-44afb769-8f74-47d6-bd6e-708706cf19d5');\n",
              "          const dataTable =\n",
              "            await google.colab.kernel.invokeFunction('convertToInteractive',\n",
              "                                                     [key], {});\n",
              "          if (!dataTable) return;\n",
              "\n",
              "          const docLinkHtml = 'Like what you see? Visit the ' +\n",
              "            '<a target=\"_blank\" href=https://colab.research.google.com/notebooks/data_table.ipynb>data table notebook</a>'\n",
              "            + ' to learn more about interactive tables.';\n",
              "          element.innerHTML = '';\n",
              "          dataTable['output_type'] = 'display_data';\n",
              "          await google.colab.output.renderOutput(dataTable, element);\n",
              "          const docLink = document.createElement('div');\n",
              "          docLink.innerHTML = docLinkHtml;\n",
              "          element.appendChild(docLink);\n",
              "        }\n",
              "      </script>\n",
              "    </div>\n",
              "  </div>\n",
              "  "
            ]
          },
          "metadata": {},
          "execution_count": 4
        }
      ]
    },
    {
      "cell_type": "markdown",
      "source": [
        "The dataset as two features `x_1` and `x_2`, and one label `y`. \n",
        "\n",
        "Let's plot this data. "
      ],
      "metadata": {
        "id": "VFZFvc4kdVtk"
      }
    },
    {
      "cell_type": "code",
      "source": [
        "import matplotlib.pyplot as plt\n",
        "import seaborn as sns\n",
        "\n",
        "sns.lmplot(x=\"x_1\",y=\"x_2\",hue=\"y\",data=dataset,fit_reg=False)\n",
        "plt.show()"
      ],
      "metadata": {
        "colab": {
          "base_uri": "https://localhost:8080/",
          "height": 369
        },
        "id": "-emcG7FnbWjB",
        "outputId": "adfc4939-9c43-481e-afe6-499af27a69fd"
      },
      "execution_count": 5,
      "outputs": [
        {
          "output_type": "display_data",
          "data": {
            "text/plain": [
              "<Figure size 402.375x360 with 1 Axes>"
            ],
            "image/png": "[encoded data removed]"
          },
          "metadata": {
            "needs_background": "light"
          }
        }
      ]
    },
    {
      "cell_type": "markdown",
      "source": [
        "We put the feature columns in a DataFrame called `X` and the label column in a DataFrame called `y`."
      ],
      "metadata": {
        "id": "G1s6QsJwd4md"
      }
    },
    {
      "cell_type": "code",
      "source": [
        "y = dataset.pop('y')\n",
        "X = dataset"
      ],
      "metadata": {
        "id": "Nrpm82fQeDK3"
      },
      "execution_count": 6,
      "outputs": []
    },
    {
      "cell_type": "markdown",
      "source": [
        "A typical deep learning workflow would involve a train, a validation and a test split of the dataset.\n",
        "\n",
        "Each split serves a specific purpose:\n",
        "\n",
        "| Split | Purpose | Amount of total data | How often is it used? |\n",
        "| ----- | ----- | ----- | ----- |\n",
        "| **train set** | The model learns from this data. | ~60-80% | Always |\n",
        "| **validation set** | The model gets tuned on this data. | ~10-20% | Often but not always |\n",
        "| **test set** | The model gets evaluated on this data to test what it has learned. | ~10-20% | Always |"
      ],
      "metadata": {
        "id": "EoL6jszWeRBj"
      }
    },
    {
      "cell_type": "code",
      "source": [
        "from sklearn.model_selection import train_test_split\n",
        "\n",
        "X_train, X_test, y_train, y_test = train_test_split(X, y, test_size=0.2, random_state=42)\n",
        "X_test, X_val, y_test, y_val = train_test_split(X_test, y_test, test_size=0.5, random_state=42)\n",
        "print(X_train.shape)\n",
        "print(X_val.shape)\n",
        "print(X_test.shape)"
      ],
      "metadata": {
        "id": "jj0jyNo1W_Cx",
        "colab": {
          "base_uri": "https://localhost:8080/"
        },
        "outputId": "7c19ed9c-fe65-4631-9e67-bd38fb11117e"
      },
      "execution_count": 7,
      "outputs": [
        {
          "output_type": "stream",
          "name": "stdout",
          "text": [
            "(800, 2)\n",
            "(100, 2)\n",
            "(100, 2)\n"
          ]
        }
      ]
    },
    {
      "cell_type": "markdown",
      "source": [
        "In PyTorch we work with Tensor representaions of the dataset. A PyTorch Tensor is basically the same as a numpy array: it does not know anything about deep learning or computational graphs or gradients, and is just a generic n-dimensional array to be used for arbitrary numeric computation.\n",
        "\n",
        "To create a Tensor we need to first extract the NumPy data from the Pandas DataFrames."
      ],
      "metadata": {
        "id": "n2Dih7Y91UiN"
      }
    },
    {
      "cell_type": "code",
      "source": [
        "X_train, X_val, X_test = X_train.values, X_val.values, X_test.values\n",
        "y_train, y_val, y_test = y_train.values, y_val.values, y_test.values"
      ],
      "metadata": {
        "id": "5vbNv-mhfrg1"
      },
      "execution_count": 8,
      "outputs": []
    },
    {
      "cell_type": "code",
      "source": [
        "X_train"
      ],
      "metadata": {
        "colab": {
          "base_uri": "https://localhost:8080/"
        },
        "id": "uXsT48Vjf3Z7",
        "outputId": "1222cbe0-e620-47f2-ca94-d83b15479bda"
      },
      "execution_count": 9,
      "outputs": [
        {
          "output_type": "execute_result",
          "data": {
            "text/plain": [
              "array([[-1.09364013,  0.25510156],\n",
              "       [-0.78469195,  0.91051752],\n",
              "       [ 1.06057683, -0.91358588],\n",
              "       ...,\n",
              "       [ 0.96704068, -1.34136883],\n",
              "       [ 0.89388643, -0.85085827],\n",
              "       [-1.33275052,  0.3117806 ]])"
            ]
          },
          "metadata": {},
          "execution_count": 9
        }
      ]
    },
    {
      "cell_type": "markdown",
      "source": [
        "Now we can create the Tensors."
      ],
      "metadata": {
        "id": "2G5dD7MC2GNR"
      }
    },
    {
      "cell_type": "code",
      "source": [
        "X_train, X_val, X_test = torch.Tensor(X_train),torch.Tensor(X_val),torch.Tensor(X_test)\n",
        "y_train, y_val, y_test = torch.Tensor(y_train),torch.Tensor(y_val),torch.Tensor(y_test)"
      ],
      "metadata": {
        "id": "m9vgmY8UWPka"
      },
      "execution_count": 10,
      "outputs": []
    },
    {
      "cell_type": "markdown",
      "metadata": {
        "id": "0eFsorRHec00"
      },
      "source": [
        "## 2. Building the model\n",
        "\n",
        "To build a model in PyTorch we need to create a subclass of `torch.nn.Module` such that this subclass inherits all functionality required for fitting our model."
      ]
    },
    {
      "cell_type": "code",
      "execution_count": 11,
      "metadata": {
        "id": "jhcUJBFuec00"
      },
      "outputs": [],
      "source": [
        "class LogisticRegression(torch.nn.Module):\n",
        "  def __init__(self, input_dim, output_dim):\n",
        "    super(LogisticRegression, self).__init__()\n",
        "    #our model has just one linear layer\n",
        "    self.linear = torch.nn.Linear(input_dim, output_dim)   \n",
        "    #the modelparameters are initialized at random\n",
        "    torch.nn.init.uniform_(self.linear.weight) \n",
        "  def forward(self, x):\n",
        "    #the output is a linear function of the features followed by the sigmoid function\n",
        "    outputs = torch.sigmoid(self.linear(x))\n",
        "    return outputs"
      ]
    },
    {
      "cell_type": "markdown",
      "source": [
        "For our model class `LogisticRegression()` we need to define at least two methods: `__init__()` and `forward()`.\n",
        "\n",
        "### `__init()__`\n",
        "\n",
        "The method `__init__()` is called when an instance of our class `LogisticRegression` is created. This is done in the following code."
      ],
      "metadata": {
        "id": "Fj8ygxXdET-y"
      }
    },
    {
      "cell_type": "code",
      "execution_count": 12,
      "metadata": {
        "id": "CsEKA3A_ec01"
      },
      "outputs": [],
      "source": [
        "# Two inputs x_1 and x_2\n",
        "input_dim = 2  \n",
        "# Single binary output \n",
        "output_dim = 1 \n",
        "\n",
        "# Create an instance of the model (this is a subclass of nn.Module that contains nn.Parameter(s))\n",
        "model = LogisticRegression(input_dim, output_dim)"
      ]
    },
    {
      "cell_type": "markdown",
      "source": [
        "This code created a linear model with two modelparameters that each have a random value. \n",
        "\n",
        "Because we inherit all functionality of the `totch.nn.Module` class we can now, for instance, call the inherited `.state_dict()` method to get the state (what the model contains) of the model."
      ],
      "metadata": {
        "id": "pXeeaE4wFoTp"
      }
    },
    {
      "cell_type": "code",
      "source": [
        "model.state_dict()"
      ],
      "metadata": {
        "colab": {
          "base_uri": "https://localhost:8080/"
        },
        "id": "xi1jwgIEFarB",
        "outputId": "153b6e5e-4ceb-4c83-c3f7-1da8a320356d"
      },
      "execution_count": 13,
      "outputs": [
        {
          "output_type": "execute_result",
          "data": {
            "text/plain": [
              "OrderedDict([('linear.weight', tensor([[0.1596, 0.7550]])),\n",
              "             ('linear.bias', tensor([0.0246]))])"
            ]
          },
          "metadata": {},
          "execution_count": 13
        }
      ]
    },
    {
      "cell_type": "markdown",
      "metadata": {
        "id": "BDKdLN7nuheb"
      },
      "source": [
        "### `forward()`\n",
        "\n",
        "When we pass data to our model, it'll go through the model's `forward()` method and produce a result using the computation we've defined. \n",
        "\n",
        "Let's make some predictions for the first 10 feature vectors in the test set."
      ]
    },
    {
      "cell_type": "code",
      "source": [
        "with torch.inference_mode(): \n",
        "    predictions = model(X_test[:10])\n",
        "\n",
        "predictions"
      ],
      "metadata": {
        "colab": {
          "base_uri": "https://localhost:8080/"
        },
        "id": "-BE18lvMKx5g",
        "outputId": "04b7352b-1814-4784-b656-b1f43833ebca"
      },
      "execution_count": 14,
      "outputs": [
        {
          "output_type": "execute_result",
          "data": {
            "text/plain": [
              "tensor([[0.4206],\n",
              "        [0.6524],\n",
              "        [0.5636],\n",
              "        [0.5938],\n",
              "        [0.7445],\n",
              "        [0.5785],\n",
              "        [0.3637],\n",
              "        [0.4000],\n",
              "        [0.5141],\n",
              "        [0.6127]])"
            ]
          },
          "metadata": {},
          "execution_count": 14
        }
      ]
    },
    {
      "cell_type": "markdown",
      "source": [
        "Because we are working with Tensors the model outputs an array of (1-dimensional) arrays."
      ],
      "metadata": {
        "id": "GHOzlzIbLdh8"
      }
    },
    {
      "cell_type": "code",
      "source": [
        "predictions.shape"
      ],
      "metadata": {
        "colab": {
          "base_uri": "https://localhost:8080/"
        },
        "id": "sREjmDPELm3g",
        "outputId": "907a250a-cd47-4ae3-fd43-d5a0274b4df7"
      },
      "execution_count": 15,
      "outputs": [
        {
          "output_type": "execute_result",
          "data": {
            "text/plain": [
              "torch.Size([10, 1])"
            ]
          },
          "metadata": {},
          "execution_count": 15
        }
      ]
    },
    {
      "cell_type": "markdown",
      "source": [
        "We use the PyTorch method `squeeze()` to reshape this Tensor to a 1-dimensional array."
      ],
      "metadata": {
        "id": "L28W91tyNhhq"
      }
    },
    {
      "cell_type": "code",
      "source": [
        "predictions = torch.squeeze(predictions)\n",
        "\n",
        "predictions"
      ],
      "metadata": {
        "colab": {
          "base_uri": "https://localhost:8080/"
        },
        "id": "LQ59eV4ZNKsZ",
        "outputId": "637ea6af-204e-42d4-add8-5cfa4685d910"
      },
      "execution_count": 16,
      "outputs": [
        {
          "output_type": "execute_result",
          "data": {
            "text/plain": [
              "tensor([0.4206, 0.6524, 0.5636, 0.5938, 0.7445, 0.5785, 0.3637, 0.4000, 0.5141,\n",
              "        0.6127])"
            ]
          },
          "metadata": {},
          "execution_count": 16
        }
      ]
    },
    {
      "cell_type": "markdown",
      "source": [
        "As with the Pandas example above, we can extract the data as a NumPy array."
      ],
      "metadata": {
        "id": "w5POsW0_N0A6"
      }
    },
    {
      "cell_type": "code",
      "source": [
        "predictions = predictions.detach().numpy()\n",
        "\n",
        "predictions"
      ],
      "metadata": {
        "colab": {
          "base_uri": "https://localhost:8080/"
        },
        "id": "zZ6_QqNkNSKa",
        "outputId": "95e564d7-484d-42f0-9515-d3a1f8fbeda0"
      },
      "execution_count": 17,
      "outputs": [
        {
          "output_type": "execute_result",
          "data": {
            "text/plain": [
              "array([0.4205827 , 0.65236455, 0.56362563, 0.5938149 , 0.74452406,\n",
              "       0.578528  , 0.36368713, 0.39997375, 0.5141345 , 0.6127332 ],\n",
              "      dtype=float32)"
            ]
          },
          "metadata": {},
          "execution_count": 17
        }
      ]
    },
    {
      "cell_type": "markdown",
      "source": [
        "The Tansor.detach() method is used to detach a tensor from the current computational graph (more about this later). \n",
        "\n",
        "We also need to detach a tensor when we need to move the tensor from GPU to CPU.\n",
        "\n",
        "Now we can compute evaluation metrics for the predicitons, e.g. the AUC."
      ],
      "metadata": {
        "id": "Jeb4dzdfLunz"
      }
    },
    {
      "cell_type": "code",
      "execution_count": 18,
      "metadata": {
        "id": "-ITlZgU5ec02",
        "colab": {
          "base_uri": "https://localhost:8080/"
        },
        "outputId": "53a38d28-6545-4063-c2c7-d07a53220fbd"
      },
      "outputs": [
        {
          "output_type": "stream",
          "name": "stdout",
          "text": [
            "test set AUC: 0.023752012882447666\n"
          ]
        }
      ],
      "source": [
        "from sklearn.metrics import roc_auc_score\n",
        "\n",
        "with torch.inference_mode(): \n",
        "    predictions = model(X_test)\n",
        "\n",
        "predictions = torch.squeeze(predictions)\n",
        "predictions = predictions.detach().numpy()\n",
        "\n",
        "print(\"test set AUC: {}\".format(roc_auc_score(y_test,predictions)))"
      ]
    },
    {
      "cell_type": "markdown",
      "metadata": {
        "id": "L_Bx5I1FsIS0"
      },
      "source": [
        "You probably noticed we used [`torch.inference_mode()`](https://pytorch.org/docs/stable/generated/torch.inference_mode.html) as a [context manager](https://realpython.com/python-with-statement/) (that's what the `with torch.inference_mode():` is) to make the predictions.\n",
        "\n",
        "As the name suggests, `torch.inference_mode()` is used when using a model for inference (making predictions).\n",
        "\n",
        "`torch.inference_mode()` turns off a bunch of things (like gradient tracking, which is necessary for training but not for inference) to make **forward-passes** (data going through the `forward()` method) faster."
      ]
    },
    {
      "cell_type": "markdown",
      "metadata": {
        "id": "aD8pnhJUyZUT"
      },
      "source": [
        "## 3. Train the model\n",
        "\n",
        "Our model is making predictions using random modelparameter values.\n",
        "\n",
        "\n",
        "For our model to update its parameters on its own, we'll need to add a few more things to our recipe.\n",
        "\n",
        "To train the model we need to add a **loss function** and an **optimizer**. The loss function measures how wrong the model predictions are compared to the true labels. The optimizer tells your model how to update its modelparameters to best lower the loss.\n",
        "\n",
        "Let's create a loss function and an optimizer we can use to help improve our model.\n",
        "\n",
        "Depending on what kind of problem you're working on will depend on what loss function and what optimizer you use.\n",
        "\n",
        "However, there are some common values, that are known to work well such as the SGD (stochastic gradient descent) or Adam optimizer. And the MAE (mean absolute error) loss function for regression problems or cross entropy loss function for classification problems, as for our dataset. \n",
        "\n",
        "For the optimizer we will SGD, `torch.optim.SGD(params, lr)` where:\n",
        "\n",
        "* `params` are the modelparameters we want to optimize\n",
        "* `lr` is the **learning rate** you'd like the optimizer to update the modelparameters at"
      ]
    },
    {
      "cell_type": "code",
      "execution_count": 19,
      "metadata": {
        "id": "P3T7hpNPec03"
      },
      "outputs": [],
      "source": [
        "learning_rate = 0.001\n",
        "\n",
        "#the loss function\n",
        "loss_func = torch.nn.CrossEntropyLoss()\n",
        "\n",
        "#the optimizer\n",
        "optimizer = torch.optim.SGD(model.parameters(), lr=learning_rate)"
      ]
    },
    {
      "cell_type": "markdown",
      "metadata": {
        "id": "aFcKCsPcRfnA"
      },
      "source": [
        "Now we've got a loss function and an optimizer, it's now time to create a **training loop** (and **validation loop**).\n",
        "\n",
        "For the training loop, we have to code the following steps:\n",
        "\n",
        "1. Forward pass: the model goes through all of the training data once, performing its `forward()` function calculations.\n",
        "\n",
        "2. Calculate the loss: the model's outputs (predictions) are compared to the ground truth and evaluated to see how wrong they are.\n",
        "3. Zero the gradients: the optimizers gradients are set to zero (they are accumulated by default) so they can be recalculated for the specific training step.\n",
        "4. Perform backpropagation on the loss: computes the gradient of the loss with respect to every modelparameter \n",
        "5. Update the optimizer (**gradient descent**): update the modelparameter values with respect to the loss gradients.\n"
      ]
    },
    {
      "cell_type": "code",
      "execution_count": 20,
      "metadata": {
        "colab": {
          "base_uri": "https://localhost:8080/"
        },
        "id": "k1DfhyJ7ec03",
        "outputId": "a07c9233-411a-445a-d088-b6b0fb2d0280"
      },
      "outputs": [
        {
          "output_type": "stream",
          "name": "stdout",
          "text": [
            "training loss: 2673.524658203125\n",
            "validation AUC: 0.07407407407407407\n",
            "training loss: 2657.168701171875\n",
            "validation AUC: 0.21175523349436393\n",
            "training loss: 2640.551513671875\n",
            "validation AUC: 0.4750402576489533\n",
            "training loss: 2624.275146484375\n",
            "validation AUC: 0.7149758454106281\n",
            "training loss: 2608.915283203125\n",
            "validation AUC: 0.8993558776167472\n",
            "training loss: 2594.900634765625\n",
            "validation AUC: 0.9597423510466988\n",
            "training loss: 2582.451416015625\n",
            "validation AUC: 0.9814814814814814\n",
            "training loss: 2571.597412109375\n",
            "validation AUC: 0.9907407407407407\n",
            "training loss: 2562.23388671875\n",
            "validation AUC: 1.0\n",
            "training loss: 2554.192138671875\n",
            "validation AUC: 1.0\n",
            "training loss: 2547.28369140625\n",
            "validation AUC: 1.0\n",
            "training loss: 2541.32958984375\n",
            "validation AUC: 1.0\n",
            "training loss: 2536.173828125\n",
            "validation AUC: 1.0\n",
            "training loss: 2531.682861328125\n",
            "validation AUC: 1.0\n",
            "training loss: 2527.74658203125\n",
            "validation AUC: 1.0\n",
            "training loss: 2524.2763671875\n",
            "validation AUC: 1.0\n",
            "training loss: 2521.1982421875\n",
            "validation AUC: 1.0\n",
            "training loss: 2518.45166015625\n",
            "validation AUC: 1.0\n",
            "training loss: 2515.98876953125\n",
            "validation AUC: 1.0\n",
            "training loss: 2513.768310546875\n",
            "validation AUC: 1.0\n"
          ]
        }
      ],
      "source": [
        "#number of times we iterate trough the train set\n",
        "num_epochs = 20\n",
        "\n",
        "for epoch in range(num_epochs):\n",
        "\n",
        "    #step 1\n",
        "    predictions_train = torch.squeeze(model(X_train)) \n",
        "\n",
        "    #step 2\n",
        "    loss = loss_func(predictions_train, y_train) \n",
        "    print(\"training loss: {}\".format(loss))    \n",
        "\n",
        "    #step 3\n",
        "    optimizer.zero_grad() \n",
        "\n",
        "    #step 4\n",
        "    loss.backward() \n",
        "\n",
        "    #step 5\n",
        "    optimizer.step() # Updates weights and biases with the optimizer (SGD)\n",
        "        \n",
        "    #compute AUC on validation set\n",
        "    predictions_val = torch.squeeze(model(X_val)).round().detach().numpy()\n",
        "    print(\"validation AUC: {}\".format(roc_auc_score(y_val,predictions_val)))"
      ]
    },
    {
      "cell_type": "markdown",
      "source": [
        "## 4. Computing predictions and evaluating the model\n"
      ],
      "metadata": {
        "id": "e0MESO4WgNQI"
      }
    },
    {
      "cell_type": "code",
      "source": [
        "model.eval()\n",
        "\n",
        "with torch.inference_mode(): \n",
        "    predictions_test = model(X_test)\n",
        "\n",
        "predictions_test = torch.squeeze(predictions_test).detach().numpy()\n",
        "\n",
        "print(\"test set AUC: {}\".format(roc_auc_score(y_test,predictions_test)))"
      ],
      "metadata": {
        "colab": {
          "base_uri": "https://localhost:8080/"
        },
        "id": "X1saE3rqbrS3",
        "outputId": "328f148e-26f2-4ab3-e482-8ecb9fe1198b"
      },
      "execution_count": 21,
      "outputs": [
        {
          "output_type": "stream",
          "name": "stdout",
          "text": [
            "test set AUC: 0.998792270531401\n"
          ]
        }
      ]
    },
    {
      "cell_type": "markdown",
      "metadata": {
        "id": "SdAGcH2aec05"
      },
      "source": [
        "## 5. Saving (and loading) the model\n",
        "\n",
        "The [recommended way](https://pytorch.org/tutorials/beginner/saving_loading_models.html#saving-loading-model-for-inference) for saving a model for inference (making predictions) is by saving the modelparameter values in `state_dict()`.\n",
        "\n",
        "We call `torch.save(obj, f)` where `obj` is the target model's `state_dict()` and `f` is the filename of where to save the model.\n",
        "\n",
        "It's common convention for PyTorch saved models or objects to end with `.pt` or `.pth`, like `saved_model_01.pth`.\n"
      ]
    },
    {
      "cell_type": "code",
      "execution_count": 22,
      "metadata": {
        "id": "qsQhY2S2jv90"
      },
      "outputs": [],
      "source": [
        "model_filename = \"model_logistic_regression.pth\"\n",
        "torch.save(obj=model.state_dict(), f=model_filename) "
      ]
    },
    {
      "cell_type": "markdown",
      "metadata": {
        "id": "jFQpRoH5ec06"
      },
      "source": [
        "To load a model, we first load the `state_dict()` with `torch.load()` and then pass that `state_dict()` to a new instance of our model (which is a subclass of `nn.Module`).\n"
      ]
    },
    {
      "cell_type": "code",
      "execution_count": 23,
      "metadata": {
        "colab": {
          "base_uri": "https://localhost:8080/"
        },
        "id": "1xnh3cFDec06",
        "outputId": "2e4f2b61-5bde-4f13-8b77-33a0b4cc520f"
      },
      "outputs": [
        {
          "output_type": "execute_result",
          "data": {
            "text/plain": [
              "<All keys matched successfully>"
            ]
          },
          "metadata": {},
          "execution_count": 23
        }
      ],
      "source": [
        "# Instantiate a new instance of our model (this will be instantiated with random weights)\n",
        "loaded_model = LogisticRegression(input_dim, output_dim)\n",
        "\n",
        "# Load the state_dict of our saved model (this will update the new instance of our model with trained weights)\n",
        "loaded_model.load_state_dict(torch.load(f=model_filename))"
      ]
    },
    {
      "cell_type": "markdown",
      "metadata": {
        "id": "vK8PRtY7Qgpz"
      },
      "source": [
        "Excellent! It looks like things matched up.\n",
        "\n",
        "Now to test our loaded model, let's perform inference with it (make predictions) on the test data.\n",
        "\n",
        "Remember the rules for performing inference with PyTorch models?\n",
        "\n",
        "If not, here's a refresher:\n",
        "\n",
        "<details>\n",
        "    <summary>PyTorch inference rules</summary>\n",
        "    <ol>\n",
        "      <li> Set the model in evaluation mode (<code>model.eval()</code>). </li>\n",
        "      <li> Make the predictions using the inference mode context manager (<code>with torch.inference_mode(): ...</code>). </li>\n",
        "      <li> All predictions should be made with objects on the same device (e.g. data and model on GPU only or data and model on CPU only).</li>\n",
        "    </ol> \n",
        "</details>\n",
        "\n"
      ]
    },
    {
      "cell_type": "code",
      "execution_count": 24,
      "metadata": {
        "id": "Ps-AuJqkec06"
      },
      "outputs": [],
      "source": [
        "# 1. Put the loaded model into evaluation mode\n",
        "loaded_model.eval()\n",
        "\n",
        "# 2. Use the inference mode context manager to make predictions\n",
        "with torch.inference_mode():\n",
        "    loaded_model_preds = loaded_model(X_test) # perform a forward pass on the test data with the loaded model"
      ]
    },
    {
      "cell_type": "code",
      "source": [],
      "metadata": {
        "id": "JghLFPXjmtg4"
      },
      "execution_count": 24,
      "outputs": []
    }
  ],
  "metadata": {
    "colab": {
      "name": "01_logisitc_regression_in_pytorch.ipynb",
      "provenance": [],
      "include_colab_link": true
    },
    "interpreter": {
      "hash": "3fbe1355223f7b2ffc113ba3ade6a2b520cadace5d5ec3e828c83ce02eb221bf"
    },
    "kernelspec": {
      "display_name": "Python 3 (ipykernel)",
      "language": "python",
      "name": "python3"
    },
    "language_info": {
      "codemirror_mode": {
        "name": "ipython",
        "version": 3
      },
      "file_extension": ".py",
      "mimetype": "text/x-python",
      "name": "python",
      "nbconvert_exporter": "python",
      "pygments_lexer": "ipython3",
      "version": "3.7.4"
    },
    "gpuClass": "standard"
  },
  "nbformat": 4,
  "nbformat_minor": 0
}